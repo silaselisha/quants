{
 "cells": [
  {
   "cell_type": "code",
   "execution_count": 2,
   "id": "92edd524-9100-4cfa-a7a2-aae029d6a8ff",
   "metadata": {},
   "outputs": [
    {
     "name": "stdout",
     "output_type": "stream",
     "text": [
      "                  open        high         low       close    volume  dividend\n",
      "date                                                                          \n",
      "2024-01-22  484.010010  485.220001  482.779999  483.450012  75844900       0.0\n",
      "2024-01-23  484.010010  485.109985  482.890015  484.859985  49945300       0.0\n",
      "2024-01-24  487.809998  488.769989  484.880005  485.390015  81765000       0.0\n",
      "2024-01-25  487.579987  488.309998  485.390015  488.029999  72525000       0.0\n",
      "2024-01-26  487.589996  489.119995  486.540009  487.410004  76641600       0.0\n",
      "...                ...         ...         ...         ...       ...       ...\n",
      "2025-01-13  575.770020  581.750000  575.349976  581.390015  47910100       0.0\n",
      "2025-01-14  584.359985  585.000000  578.349976  582.190002  48420600       0.0\n",
      "2025-01-15  590.330017  593.940002  589.200012  592.780029  56900200       0.0\n",
      "2025-01-16  594.169983  594.349976  590.929993  591.640015  43319700       0.0\n",
      "2025-01-17  596.960022  599.359985  595.609985  597.580017  58026200       0.0\n",
      "\n",
      "[250 rows x 6 columns]\n"
     ]
    }
   ],
   "source": [
    "from openbb import obb\n",
    "obb.user.preferences.output_type = \"dataframe\"\n",
    "data = obb.equity.price.historical(\"SPY\", provider=\"yfinance\")\n",
    "print(data)"
   ]
  },
  {
   "cell_type": "code",
   "execution_count": null,
   "id": "56efa205-3bba-4d23-9237-7e0bb30fd256",
   "metadata": {},
   "outputs": [],
   "source": []
  }
 ],
 "metadata": {
  "kernelspec": {
   "display_name": "Python 3 (ipykernel)",
   "language": "python",
   "name": "python3"
  },
  "language_info": {
   "codemirror_mode": {
    "name": "ipython",
    "version": 3
   },
   "file_extension": ".py",
   "mimetype": "text/x-python",
   "name": "python",
   "nbconvert_exporter": "python",
   "pygments_lexer": "ipython3",
   "version": "3.12.7"
  }
 },
 "nbformat": 4,
 "nbformat_minor": 5
}
