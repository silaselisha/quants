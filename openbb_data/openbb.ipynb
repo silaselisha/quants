{
 "cells": [
  {
   "cell_type": "code",
   "execution_count": 15,
   "id": "92edd524-9100-4cfa-a7a2-aae029d6a8ff",
   "metadata": {},
   "outputs": [
    {
     "name": "stdout",
     "output_type": "stream",
     "text": [
      "                  open        high         low       close     volume  \\\n",
      "date                                                                    \n",
      "2024-01-22   60.049000   60.331001   59.070000   59.653999  452955000   \n",
      "2024-01-23   59.570000   59.910000   58.584999   59.873001  294654000   \n",
      "2024-01-24   60.304001   62.848999   59.938000   61.362000  560271000   \n",
      "2024-01-25   62.349998   62.719002   60.849998   61.617001  482777000   \n",
      "2024-01-26   60.959999   61.783001   60.573002   61.030998  390309000   \n",
      "...                ...         ...         ...         ...        ...   \n",
      "2025-01-13  129.990005  133.490005  129.509995  133.229996  204808900   \n",
      "2025-01-14  136.050003  136.380005  130.050003  131.759995  195590500   \n",
      "2025-01-15  133.649994  136.449997  131.289993  136.240005  185217300   \n",
      "2025-01-16  138.639999  138.750000  133.490005  133.570007  209235600   \n",
      "2025-01-17  136.690002  138.500000  135.460007  137.710007  200492300   \n",
      "\n",
      "            split_ratio  dividend  \n",
      "date                               \n",
      "2024-01-22          0.0       0.0  \n",
      "2024-01-23          0.0       0.0  \n",
      "2024-01-24          0.0       0.0  \n",
      "2024-01-25          0.0       0.0  \n",
      "2024-01-26          0.0       0.0  \n",
      "...                 ...       ...  \n",
      "2025-01-13          0.0       0.0  \n",
      "2025-01-14          0.0       0.0  \n",
      "2025-01-15          0.0       0.0  \n",
      "2025-01-16          0.0       0.0  \n",
      "2025-01-17          0.0       0.0  \n",
      "\n",
      "[250 rows x 7 columns]\n"
     ]
    }
   ],
   "source": [
    "from openbb import obb\n",
    "obb.user.preferences.output_type = \"dataframe\"\n",
    "data = obb.equity.price.historical(\"NVDA\", provider=\"yfinance\")\n",
    "print(data)"
   ]
  },
  {
   "cell_type": "code",
   "execution_count": 9,
   "id": "56efa205-3bba-4d23-9237-7e0bb30fd256",
   "metadata": {},
   "outputs": [
    {
     "name": "stdout",
     "output_type": "stream",
     "text": [
      "  symbol    market_cap   pe_ratio  forward_pe  peg_ratio_ttm  \\\n",
      "0   AAPL  3.458416e+12  37.887970   27.693354         2.0958   \n",
      "1   MSFT  3.189787e+12  35.457024   28.583687         2.2522   \n",
      "2   NVDA  3.372518e+12  54.430832   30.964718         0.9870   \n",
      "\n",
      "   enterprise_to_ebitda  earnings_growth  earnings_growth_quarterly  \\\n",
      "0                26.216           -0.341                     -0.358   \n",
      "1                23.494            0.104                      0.107   \n",
      "2                58.085            1.680                      1.682   \n",
      "\n",
      "   revenue_per_share  revenue_growth  ...  price_to_book  enterprise_value  \\\n",
      "0             25.485           0.061  ...      61.051235     3530225090560   \n",
      "1             34.202           0.160  ...      11.088052     3208195866624   \n",
      "2              3.910           1.224  ...      78.962160     3553896693760   \n",
      "\n",
      "   overall_risk  audit_risk  board_risk  compensation_risk  \\\n",
      "0           1.0         3.0         1.0                3.0   \n",
      "1           3.0         9.0         5.0                3.0   \n",
      "2           8.0         7.0        10.0                5.0   \n",
      "\n",
      "   shareholder_rights_risk   beta  price_return_1y  currency  \n",
      "0                      1.0  1.240         0.186136       USD  \n",
      "1                      2.0  0.904         0.082016       USD  \n",
      "2                      6.0  1.657         1.308479       USD  \n",
      "\n",
      "[3 rows x 34 columns]\n"
     ]
    }
   ],
   "source": [
    "from openbb import obb\n",
    "obb.user.preferences.output_type = \"dataframe\"\n",
    "data = obb.equity.fundamental.metrics(\"AAPL,MSFT,NVDA\", provider=\"yfinance\")\n",
    "print(data)"
   ]
  },
  {
   "cell_type": "code",
   "execution_count": 16,
   "id": "8089ce7b-2109-4143-b79b-b9fd53c1514f",
   "metadata": {},
   "outputs": [
    {
     "name": "stdout",
     "output_type": "stream",
     "text": [
      "                             name    market_cap  performance_1d     pe  \\\n",
      "0         Insurance - Reinsurance   48720000000          0.0011   6.32   \n",
      "1                 REIT - Mortgage   58010000000          0.0084  14.44   \n",
      "2                 Marine Shipping   32470000000         -0.0126   4.69   \n",
      "3                     Coking Coal    9310000000          0.0216   9.12   \n",
      "4          Paper & Paper Products   17560000000          0.0171  16.42   \n",
      "..                            ...           ...             ...    ...   \n",
      "140  REIT - Healthcare Facilities  160820000000          0.0018  94.75   \n",
      "141                 REIT - Office   79550000000          0.0118  63.95   \n",
      "142     Real Estate - Diversified    6900000000         -0.0085  45.44   \n",
      "143     Infrastructure Operations   33980000000          0.0142  36.91   \n",
      "144               Shell Companies   30220000000          0.0047  81.23   \n",
      "\n",
      "     forward_pe     peg  eps_growth_past_5y  eps_growth_next_5y    volume  \\\n",
      "0          7.37    7.08              0.5349              0.0089   2950000   \n",
      "1          7.38     NaN             -0.2227             -0.0162  49640000   \n",
      "2          7.53    0.19              0.2182              0.2521  20520000   \n",
      "3          8.11     NaN              0.0585                 NaN   2130000   \n",
      "4          8.38     NaN              0.7092             -0.0519   5120000   \n",
      "..          ...     ...                 ...                 ...       ...   \n",
      "140       59.29    7.82             -0.1269              0.1212  34310000   \n",
      "141       59.48  204.65             -0.2095              0.0031  21580000   \n",
      "142       79.52     NaN              0.1853                 NaN    599130   \n",
      "143      158.43    2.91                 NaN              0.1267    952010   \n",
      "144      168.94     NaN                 NaN                 NaN   9390000   \n",
      "\n",
      "     price_to_sales  price_to_book  price_to_free_cash_flow  \\\n",
      "0              0.87           1.17                     2.56   \n",
      "1              1.93           0.85                    13.49   \n",
      "2              1.00           0.88                     5.75   \n",
      "3              0.91           1.52                    10.01   \n",
      "4              1.00           1.46                    18.59   \n",
      "..              ...            ...                      ...   \n",
      "140            6.87           2.05                    27.51   \n",
      "141            4.05           1.18                    14.36   \n",
      "142            4.23           1.93                    31.84   \n",
      "143            3.25           7.23                    31.79   \n",
      "144           15.97           2.71                   205.43   \n",
      "\n",
      "     sales_growth_past_5_years  price_to_cash  \n",
      "0                       0.1631            NaN  \n",
      "1                       0.3472           3.89  \n",
      "2                       0.2294           4.49  \n",
      "3                       0.1979           6.11  \n",
      "4                       0.0576           4.65  \n",
      "..                         ...            ...  \n",
      "140                     0.1402          23.56  \n",
      "141                     0.0562           8.91  \n",
      "142                     0.1872           6.60  \n",
      "143                     0.0937           8.19  \n",
      "144                     0.7118          39.33  \n",
      "\n",
      "[145 rows x 14 columns]\n"
     ]
    }
   ],
   "source": [
    "from openbb import obb\n",
    "obb.user.preferences.output_type = \"dataframe\"\n",
    "data = obb.equity.compare.groups(group = \"industry\", metric = \"valuation\", provider = \"finviz\")\n",
    "print(data)"
   ]
  },
  {
   "cell_type": "code",
   "execution_count": 24,
   "id": "64a62771-4ece-4c04-88fa-be63f6bd0afd",
   "metadata": {},
   "outputs": [
    {
     "name": "stdout",
     "output_type": "stream",
     "text": [
      "                                   name     market_cap  performance_1d  \\\n",
      "0                                 Solar    44960000000         -0.0016   \n",
      "1               Communication Equipment   511520000000          0.0054   \n",
      "2                 Electronic Components   268570000000          0.0063   \n",
      "3                Software - Application  2903190000000          0.0064   \n",
      "4       Information Technology Services  1030109999999          0.0064   \n",
      "5                     Computer Hardware   398540000000          0.0065   \n",
      "6   Electronics & Computer Distribution    31440000000          0.0067   \n",
      "7                  Consumer Electronics  3587210000000          0.0078   \n",
      "8    Scientific & Technical Instruments   201280000000          0.0085   \n",
      "9             Software - Infrastructure  5088720000000          0.0092   \n",
      "10  Semiconductor Equipment & Materials   746390000000          0.0147   \n",
      "11                       Semiconductors  7091080000000          0.0242   \n",
      "\n",
      "    dividend_yield     pe  forward_pe   peg  float_short     volume Stocks  \n",
      "0           0.0017  23.64       12.16  0.92       0.1442   78460000     27  \n",
      "1           0.0193  33.70       17.96  4.63       0.0214  113260000     56  \n",
      "2           0.0094  28.90       21.68  1.76       0.0244   73860000     47  \n",
      "3           0.0033  68.44       38.50  3.37       0.0422  750230000    241  \n",
      "4           0.0159  30.91       20.49  3.46       0.0235  147080000     67  \n",
      "5           0.0073  34.26       20.28  2.12       0.0679  471280000     33  \n",
      "6           0.0088  16.49       10.68  2.27       0.0434    2100000      9  \n",
      "7           0.0045  36.18       27.02  4.65       0.0085  411160000     18  \n",
      "8           0.0048  31.14       22.03  1.88       0.0483   37200000     33  \n",
      "9           0.0061  39.47       28.14  2.57       0.0358  328200000    154  \n",
      "10          0.0084  31.52       23.96  2.02       0.0429   38150000     29  \n",
      "11          0.0064  50.48       26.22  1.76       0.0200  761120000     66  \n"
     ]
    }
   ],
   "source": [
    "from openbb import obb\n",
    "obb.user.preferences.output_type = \"dataframe\"\n",
    "data = obb.equity.compare.groups(group=\"technology\", metric=\"overview\", provider=\"finviz\")\n",
    "print(data)"
   ]
  },
  {
   "cell_type": "code",
   "execution_count": 29,
   "id": "367ae991-1341-4f00-9cd6-1805f31a6fb9",
   "metadata": {},
   "outputs": [
    {
     "data": {
      "text/plain": [
       "<Axes: xlabel='expiration'>"
      ]
     },
     "execution_count": 29,
     "metadata": {},
     "output_type": "execute_result"
    },
    {
     "data": {
      "image/png": "[encoded data removed]",
      "text/plain": [
       "<Figure size 640x480 with 1 Axes>"
      ]
     },
     "metadata": {},
     "output_type": "display_data"
    }
   ],
   "source": [
    "import pandas as pd\n",
    "from openbb import obb\n",
    "obb.user.preferences.output_type = \"dataframe\"\n",
    "data = obb.derivatives.futures.curve(symbol=\"VX\")\n",
    "data.index = pd.to_datetime(data.expiration)\n",
    "data.plot()"
   ]
  },
  {
   "cell_type": "code",
   "execution_count": 108,
   "id": "2d9477ec-450e-4f3b-9508-899f77034d64",
   "metadata": {},
   "outputs": [
    {
     "name": "stdout",
     "output_type": "stream",
     "text": [
      "              2025-12    2026-12    2027-12    2028-12\n",
      "date                                                  \n",
      "2020-01-02  52.750000  53.130001  53.180000  53.180000\n",
      "2020-01-03  52.419998  52.910000  52.959999  52.959999\n",
      "2020-01-06  52.349998  52.840000  52.889999  52.889999\n",
      "2020-01-07  52.669998  53.169998  53.240002  53.240002\n",
      "2020-01-08  52.270000  52.770000  52.840000  52.840000\n",
      "...               ...        ...        ...        ...\n",
      "2024-11-22  68.339996  66.209999  64.970001  64.209999\n",
      "2024-11-25  66.620003  64.849998  63.900002  63.330002\n",
      "2024-11-26  66.639999  65.080002  64.199997  63.669998\n",
      "2024-11-27  66.410004  64.839996  63.939999  63.389999\n",
      "2024-11-29  65.949997  64.339996  63.389999  62.790001\n",
      "\n",
      "[1237 rows x 4 columns]\n"
     ]
    }
   ],
   "source": [
    "import pandas as pd\n",
    "from openbb import obb\n",
    "obb.user.preferences.output_type = \"dataframe\"\n",
    "\n",
    "expirations = [\"2025-12\", \"2026-12\", \"2027-12\", \"2028-12\"]\n",
    "contracts = []\n",
    "for exp in expirations:\n",
    "    data = obb.derivatives.futures.historical(symbol=\"CL\", expiration=exp, start_date=\"2020-01-01\", end_date=\"2024-12-01\").rename(columns={\"close\": exp})\n",
    "    contracts.append(data[exp])\n",
    "\n",
    "historical = (pd.DataFrame(contracts).transpose().dropna())\n",
    "historical.iloc[-1]."
   ]
  },
  {
   "cell_type": "code",
   "execution_count": null,
   "id": "f4aee928-821b-4b68-935c-1cfd794d1912",
   "metadata": {},
   "outputs": [],
   "source": []
  }
 ],
 "metadata": {
  "kernelspec": {
   "display_name": "Python 3 (ipykernel)",
   "language": "python",
   "name": "python3"
  },
  "language_info": {
   "codemirror_mode": {
    "name": "ipython",
    "version": 3
   },
   "file_extension": ".py",
   "mimetype": "text/x-python",
   "name": "python",
   "nbconvert_exporter": "python",
   "pygments_lexer": "ipython3",
   "version": "3.12.7"
  }
 },
 "nbformat": 4,
 "nbformat_minor": 5
}
