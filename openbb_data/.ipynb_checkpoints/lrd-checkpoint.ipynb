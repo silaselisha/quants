{
 "cells": [
  {
   "cell_type": "code",
   "execution_count": null,
   "metadata": {},
   "outputs": [
    {
     "name": "stderr",
     "output_type": "stream",
     "text": [
      "\n",
      "2 Failed downloads:\n",
      "['AEM']: ConnectionError(ReadTimeoutError(\"HTTPSConnectionPool(host='query2.finance.yahoo.com', port=443): Read timed out.\"))\n",
      "['KGC']: ReadTimeout(ReadTimeoutError(\"HTTPSConnectionPool(host='query2.finance.yahoo.com', port=443): Read timed out. (read timeout=10)\"))\n"
     ]
    }
   ],
   "source": [
    "import pandas as pd \n",
    "import numpy as np \n",
    "import matplotlib.pyplot as plt\n",
    "\n",
    "\n",
    "from openbb import obb\n",
    "from sklearn.decomposition import PCA\n",
    "\n",
    "obb.user.preferences.output_type = 'dataframe'\n",
    "stocks = ['IAG', 'EXK', 'NGD', 'CDE', 'KGC', 'AEM', 'HMY', 'EXE', 'WELL', 'VHI', 'GUD']\n",
    "data = obb.equity.price.historical(\n",
    "    stocks,\n",
    "    start_date='2016-01-01',\n",
    "    provider='yfinance'\n",
    ").pivot(columns='symbol', values='close')\n",
    "\n",
    "returns = data.pct_change().dropna()\n",
    "pca = PCA(n_components=3)\n",
    "pca.fit(returns)\n"
   ]
  }
 ],
 "metadata": {
  "kernelspec": {
   "display_name": "Python 3",
   "language": "python",
   "name": "python3"
  },
  "language_info": {
   "codemirror_mode": {
    "name": "ipython",
    "version": 3
   },
   "file_extension": ".py",
   "mimetype": "text/x-python",
   "name": "python",
   "nbconvert_exporter": "python",
   "pygments_lexer": "ipython3",
   "version": "3.10.12"
  }
 },
 "nbformat": 4,
 "nbformat_minor": 2
}
