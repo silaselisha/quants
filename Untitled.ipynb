{
 "cells": [
  {
   "cell_type": "code",
   "execution_count": 67,
   "id": "6a786334-c612-4780-a752-9d0df0ae3416",
   "metadata": {},
   "outputs": [
    {
     "data": {
      "text/plain": [
       "Text(0, 0.5, 'factor exposure of pc2')"
      ]
     },
     "execution_count": 67,
     "metadata": {},
     "output_type": "execute_result"
    },
    {
     "data": {
      "image/png": "[encoded data removed]",
      "text/plain": [
       "<Figure size 640x480 with 1 Axes>"
      ]
     },
     "metadata": {},
     "output_type": "display_data"
    }
   ],
   "source": [
    "# identify latent return driver using pca\n",
    "from sklearn.decomposition import PCA\n",
    "from openbb import obb\n",
    "import pandas as pd\n",
    "import numpy as np\n",
    "import matplotlib.pyplot as plt\n",
    "\n",
    "obb.user.preferences.output_type = 'dataframe'\n",
    "\n",
    "symbols =  [\"NEM\", \"RGLD\", \"SSRM\", \"CDE\", \"LLY\", \"UNH\", \"JNJ\", \"MRK\"]\n",
    "data = obb.equity.price.historical(\n",
    "    symbols,\n",
    "    start_date='2020-01-01',\n",
    "    end_date='2020-12-31',\n",
    "    provider='yfinance'\n",
    ").pivot(columns='symbol', values='close')\n",
    "returns = data.pct_change().dropna()\n",
    "pca = PCA(n_components=3)\n",
    "pca.fit(returns)\n",
    "\n",
    "evr = pca.explained_variance_ratio_\n",
    "cmp = pca.components_\n",
    "cum_pct = np.cumsum(evr)\n",
    "# x = np.arange(1, len(evr) + 1, 1)\n",
    "# plt.subplot(1, 2, 1)\n",
    "# plt.bar(x, evr * 100, align='center')\n",
    "# plt.title('cumulative (%)')\n",
    "# plt.xticks(x)\n",
    "# plt.xlim([0, 4])\n",
    "# plt.ylim([0, 100])\n",
    "# plt.subplot(1, 2, 2)\n",
    "# plt.plot(x, cum_pct * 100, 'ro-')\n",
    "# plt.title('cumulative (%)')\n",
    "# plt.xticks(x)\n",
    "# plt.xlim([0, 4])\n",
    "# plt.ylim([0, 100])\n",
    "\n",
    "X = np.asarray(returns)\n",
    "factor_return = X.dot(cmp.T)\n",
    "factor_return = pd.DataFrame(\n",
    "    columns=['f1', 'f2', 'f3'],\n",
    "    index=returns.index,\n",
    "    data=factor_return\n",
    ")\n",
    "\n",
    "factor_exposure = pd.DataFrame(\n",
    "    index=['f1', 'f2', 'f3'],\n",
    "    columns=returns.columns,\n",
    "    data=cmp\n",
    ").T\n",
    "\n",
    "labels = factor_exposure.index\n",
    "data = factor_exposure.values\n",
    "\n",
    "plt.scatter(data[:, 0], data[:, 1])\n",
    "plt.xlabel('factor exposure of pc1')\n",
    "plt.ylabel('factor exposure of pc2')\n",
    "\n",
    "for label, x, y in zip(labels, data[:, 0], data[:, 1]):\n",
    "    plt.annotate(\n",
    "        label,\n",
    "        xy=(x, y),\n",
    "        xytext=(-20, 20),\n",
    "        textcoords='offset points',\n",
    "        arrowprops=dict(\n",
    "            arrowstyle='->',\n",
    "            connectionstyle='arc3, rad=0'\n",
    "        ),\n",
    "    )"
   ]
  },
  {
   "cell_type": "code",
   "execution_count": null,
   "id": "f1872b2d-edd8-4b4b-837e-8e5a2b8864cd",
   "metadata": {},
   "outputs": [],
   "source": []
  }
 ],
 "metadata": {
  "kernelspec": {
   "display_name": "Python 3 (ipykernel)",
   "language": "python",
   "name": "python3"
  },
  "language_info": {
   "codemirror_mode": {
    "name": "ipython",
    "version": 3
   },
   "file_extension": ".py",
   "mimetype": "text/x-python",
   "name": "python",
   "nbconvert_exporter": "python",
   "pygments_lexer": "ipython3",
   "version": "3.10.12"
  }
 },
 "nbformat": 4,
 "nbformat_minor": 5
}
