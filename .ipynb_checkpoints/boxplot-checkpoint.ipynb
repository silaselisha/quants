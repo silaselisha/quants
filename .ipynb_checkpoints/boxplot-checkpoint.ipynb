{
 "cells": [
  {
   "cell_type": "code",
   "execution_count": null,
   "metadata": {},
   "outputs": [],
   "source": [
    "import pandas as pd \n",
    "import numpy as np \n",
    "from openbb import obb \n",
    "\n",
    "obb.user.preferences.output_type = 'dataframe'\n",
    "data = obb.equity.price.historical(\n",
    "    ['SOFI', 'TUYA'],\n",
    "    provider= 'yfinance'\n",
    ").pivot(columns='symbol', values='close')\n",
    "\n",
    "returns = (\n",
    "    data\n",
    "    .pct_change(fill_method=None)\n",
    "    .dropna()\n",
    ")\n",
    "\n",
    "print(returns)\n",
    "returns = returns.reset_index()\n",
    "melted = pd.melt(\n",
    "    returns,\n",
    "    id_vars=['date'],\n",
    "    value_vars=['SOFI'],\n",
    "    var_name='stock',\n",
    "    value_name='returns'\n",
    ")"
   ]
  }
 ],
 "metadata": {
  "kernelspec": {
   "display_name": "Python 3 (ipykernel)",
   "language": "python",
   "name": "python3"
  },
  "language_info": {
   "codemirror_mode": {
    "name": "ipython",
    "version": 3
   },
   "file_extension": ".py",
   "mimetype": "text/x-python",
   "name": "python",
   "nbconvert_exporter": "python",
   "pygments_lexer": "ipython3",
   "version": "3.10.12"
  }
 },
 "nbformat": 4,
 "nbformat_minor": 2
}
