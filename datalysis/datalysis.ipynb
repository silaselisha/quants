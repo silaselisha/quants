{
 "cells": [
  {
   "cell_type": "code",
   "execution_count": 1,
   "id": "14418ead-74d1-4208-80c4-83f0462beae2",
   "metadata": {},
   "outputs": [
    {
     "name": "stdout",
     "output_type": "stream",
     "text": [
      "Index([0, 1, 2, 3, 4, 5], dtype='int64')\n"
     ]
    }
   ],
   "source": [
    "# create an index (a simple one)\n",
    "import pandas as pd\n",
    "args = [0, 1, 2, 3, 4, 5]\n",
    "index = pd.Index(args)\n",
    "print(index)"
   ]
  },
  {
   "cell_type": "code",
   "execution_count": 8,
   "id": "7c554a1e-888d-43ef-aa4f-983f8c199e93",
   "metadata": {},
   "outputs": [
    {
     "name": "stdout",
     "output_type": "stream",
     "text": [
      "DatetimeIndex(['2021-01-01', '2021-01-02', '2021-01-03', '2021-01-04'], dtype='datetime64[ns]', freq='D')\n",
      "DatetimeIndex(['2020-12-31 19:00:00-05:00', '2021-01-01 19:00:00-05:00',\n",
      "               '2021-01-02 19:00:00-05:00', '2021-01-03 19:00:00-05:00'],\n",
      "              dtype='datetime64[ns, US/Eastern]', freq='D')\n",
      "DatetimeIndex(['2020-12-31 19:00:00-05:00', '2020-12-31 19:00:01-05:00',\n",
      "               '2020-12-31 19:00:02-05:00', '2020-12-31 19:00:03-05:00'],\n",
      "              dtype='datetime64[ns, US/Eastern]', freq='s')\n"
     ]
    }
   ],
   "source": [
    "# create a time series index DatetimeIndex\n",
    "import pandas as pd\n",
    "days = pd.date_range(\"2021-01-01\", freq=\"D\", periods=4)\n",
    "days_local = days.tz_localize(\"UTC\").tz_convert(\"US/Eastern\")\n",
    "seconds = pd.date_range(\"2021-01-01\", freq=\"s\", periods=4).tz_localize(\"UTC\").tz_convert(\"US/Eastern\")\n",
    "print(days)\n",
    "print(days_local)\n",
    "print(seconds)"
   ]
  },
  {
   "cell_type": "code",
   "execution_count": 1,
   "id": "eb80ad3e-2ebc-4a6a-9006-ce185ffbb5f5",
   "metadata": {},
   "outputs": [
    {
     "name": "stdout",
     "output_type": "stream",
     "text": [
      "PeriodIndex(['2021Q1', '2021Q2', '2021Q3', '2021Q4', '2022Q1', '2022Q2',\n",
      "             '2022Q3', '2022Q4'],\n",
      "            dtype='period[Q-APR]')\n"
     ]
    }
   ],
   "source": [
    "# PeriodIndex\n",
    "# creating periods\n",
    "import pandas as pd\n",
    "qtr = pd.period_range(\"2021Q1\", \"2022Q4\", freq=\"Q-APR\")\n",
    "print(qtr)"
   ]
  },
  {
   "cell_type": "code",
   "execution_count": 2,
   "id": "4f144af3-da57-4c01-bdab-191686448afc",
   "metadata": {},
   "outputs": [
    {
     "name": "stdout",
     "output_type": "stream",
     "text": [
      "                   close  factor_1\n",
      "timestamp  symbol                 \n",
      "2021-01-01 AAPL    50.01      0.31\n"
     ]
    }
   ],
   "source": [
    "# MultiIndex\n",
    "import pandas as pd\n",
    "tuples = [(pd.Timestamp(\"2021-01-01\"), \"AAPL\")]\n",
    "midx = pd.MultiIndex.from_tuples(tuples, names=(\"timestamp\", \"symbol\"))\n",
    "df = pd.DataFrame({\"close\": [50.01], \"factor_1\": [0.31]}, index=midx)\n",
    "print(df)"
   ]
  },
  {
   "cell_type": "code",
   "execution_count": 3,
   "id": "c4eaa465-0c62-44e0-b054-da11d5cdc396",
   "metadata": {},
   "outputs": [
    {
     "name": "stdout",
     "output_type": "stream",
     "text": [
      "2021-01-01 00:00:00   -0.046706\n",
      "2021-01-01 00:00:01    1.111515\n",
      "2021-01-01 00:00:02   -0.209086\n",
      "2021-01-01 00:00:03   -0.588665\n",
      "Freq: s, dtype: float64\n",
      "                            a         b         c         d\n",
      "2021-01-01 00:00:00 -0.046706  0.313030  1.413382  0.646029\n",
      "2021-01-01 00:00:01  1.111515 -1.799138 -0.565244  1.119462\n",
      "2021-01-01 00:00:02 -0.209086  0.506537 -1.004442 -0.865663\n",
      "2021-01-01 00:00:03 -0.588665  0.348967 -0.629484 -0.231116\n"
     ]
    }
   ],
   "source": [
    "import pandas as pd\n",
    "import numpy as np\n",
    "\n",
    "def rnd():\n",
    "    return np.random.randn(4,)\n",
    "\n",
    "seconds = pd.date_range(\"2021-01-01\", freq=\"s\", periods=4)\n",
    "s1 = pd.Series(rnd(), index=seconds)\n",
    "s2 = pd.Series(rnd(), index=seconds)\n",
    "s3 = pd.Series(rnd(), index=seconds)\n",
    "s4 = pd.Series(rnd(), index=seconds)\n",
    "\n",
    "df = pd.DataFrame({\"a\": s1, \"b\": s2, \"c\": s3, \"d\": s4})\n",
    "print(s1)\n",
    "print(df)"
   ]
  },
  {
   "cell_type": "code",
   "execution_count": null,
   "id": "194ac03e-df76-4433-8643-59ffa9cfe3d6",
   "metadata": {},
   "outputs": [],
   "source": [
    "from openbb import obb\n",
    "import pandas as pd\n",
    "\n",
    "obb.user.preferences.output_type = \"dataframe\"\n",
    "chains = obb.derivatives.options.chains(\"SPY\", provider=\"cboe\")\n",
    "df3 = chains.set_index([\"expiration\", \"strike\", \"option_type\"])\n",
    "print(df3)"
   ]
  },
  {
   "cell_type": "code",
   "execution_count": null,
   "id": "fc7969f9-10c1-403f-b01a-beca60c8690e",
   "metadata": {},
   "outputs": [],
   "source": []
  }
 ],
 "metadata": {
  "kernelspec": {
   "display_name": "Python 3 (ipykernel)",
   "language": "python",
   "name": "python3"
  },
  "language_info": {
   "codemirror_mode": {
    "name": "ipython",
    "version": 3
   },
   "file_extension": ".py",
   "mimetype": "text/x-python",
   "name": "python",
   "nbconvert_exporter": "python",
   "pygments_lexer": "ipython3",
   "version": "3.12.7"
  }
 },
 "nbformat": 4,
 "nbformat_minor": 5
}
