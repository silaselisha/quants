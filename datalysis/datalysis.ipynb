{
 "cells": [
  {
   "cell_type": "code",
   "execution_count": 1,
   "id": "14418ead-74d1-4208-80c4-83f0462beae2",
   "metadata": {},
   "outputs": [
    {
     "name": "stdout",
     "output_type": "stream",
     "text": [
      "Index([0, 1, 2, 3, 4, 5], dtype='int64')\n"
     ]
    }
   ],
   "source": [
    "# create an index (a simple one)\n",
    "import pandas as pd\n",
    "args = [0, 1, 2, 3, 4, 5]\n",
    "index = pd.Index(args)\n",
    "print(index)"
   ]
  },
  {
   "cell_type": "code",
   "execution_count": 8,
   "id": "7c554a1e-888d-43ef-aa4f-983f8c199e93",
   "metadata": {},
   "outputs": [
    {
     "name": "stdout",
     "output_type": "stream",
     "text": [
      "DatetimeIndex(['2021-01-01', '2021-01-02', '2021-01-03', '2021-01-04'], dtype='datetime64[ns]', freq='D')\n",
      "DatetimeIndex(['2020-12-31 19:00:00-05:00', '2021-01-01 19:00:00-05:00',\n",
      "               '2021-01-02 19:00:00-05:00', '2021-01-03 19:00:00-05:00'],\n",
      "              dtype='datetime64[ns, US/Eastern]', freq='D')\n",
      "DatetimeIndex(['2020-12-31 19:00:00-05:00', '2020-12-31 19:00:01-05:00',\n",
      "               '2020-12-31 19:00:02-05:00', '2020-12-31 19:00:03-05:00'],\n",
      "              dtype='datetime64[ns, US/Eastern]', freq='s')\n"
     ]
    }
   ],
   "source": [
    "# create a time series index DatetimeIndex\n",
    "import pandas as pd\n",
    "days = pd.date_range(\"2021-01-01\", freq=\"D\", periods=4)\n",
    "days_local = days.tz_localize(\"UTC\").tz_convert(\"US/Eastern\")\n",
    "seconds = pd.date_range(\"2021-01-01\", freq=\"s\", periods=4).tz_localize(\"UTC\").tz_convert(\"US/Eastern\")\n",
    "print(days)\n",
    "print(days_local)\n",
    "print(seconds)"
   ]
  },
  {
   "cell_type": "code",
   "execution_count": 1,
   "id": "eb80ad3e-2ebc-4a6a-9006-ce185ffbb5f5",
   "metadata": {},
   "outputs": [
    {
     "name": "stdout",
     "output_type": "stream",
     "text": [
      "PeriodIndex(['2021Q1', '2021Q2', '2021Q3', '2021Q4', '2022Q1', '2022Q2',\n",
      "             '2022Q3', '2022Q4'],\n",
      "            dtype='period[Q-APR]')\n"
     ]
    }
   ],
   "source": [
    "# PeriodIndex\n",
    "# creating periods\n",
    "import pandas as pd\n",
    "qtr = pd.period_range(\"2021Q1\", \"2022Q4\", freq=\"Q-APR\")\n",
    "print(qtr)"
   ]
  },
  {
   "cell_type": "code",
   "execution_count": 2,
   "id": "4f144af3-da57-4c01-bdab-191686448afc",
   "metadata": {},
   "outputs": [
    {
     "name": "stdout",
     "output_type": "stream",
     "text": [
      "                   close  factor_1\n",
      "timestamp  symbol                 \n",
      "2021-01-01 AAPL    50.01      0.31\n"
     ]
    }
   ],
   "source": [
    "# MultiIndex\n",
    "import pandas as pd\n",
    "tuples = [(pd.Timestamp(\"2021-01-01\"), \"AAPL\")]\n",
    "midx = pd.MultiIndex.from_tuples(tuples, names=(\"timestamp\", \"symbol\"))\n",
    "df = pd.DataFrame({\"close\": [50.01], \"factor_1\": [0.31]}, index=midx)\n",
    "print(df)"
   ]
  },
  {
   "cell_type": "code",
   "execution_count": 3,
   "id": "c4eaa465-0c62-44e0-b054-da11d5cdc396",
   "metadata": {},
   "outputs": [
    {
     "name": "stdout",
     "output_type": "stream",
     "text": [
      "2021-01-01 00:00:00   -0.046706\n",
      "2021-01-01 00:00:01    1.111515\n",
      "2021-01-01 00:00:02   -0.209086\n",
      "2021-01-01 00:00:03   -0.588665\n",
      "Freq: s, dtype: float64\n",
      "                            a         b         c         d\n",
      "2021-01-01 00:00:00 -0.046706  0.313030  1.413382  0.646029\n",
      "2021-01-01 00:00:01  1.111515 -1.799138 -0.565244  1.119462\n",
      "2021-01-01 00:00:02 -0.209086  0.506537 -1.004442 -0.865663\n",
      "2021-01-01 00:00:03 -0.588665  0.348967 -0.629484 -0.231116\n"
     ]
    }
   ],
   "source": [
    "import pandas as pd\n",
    "import numpy as np\n",
    "\n",
    "def rnd():\n",
    "    return np.random.randn(4,)\n",
    "\n",
    "seconds = pd.date_range(\"2021-01-01\", freq=\"s\", periods=4)\n",
    "s1 = pd.Series(rnd(), index=seconds)\n",
    "s2 = pd.Series(rnd(), index=seconds)\n",
    "s3 = pd.Series(rnd(), index=seconds)\n",
    "s4 = pd.Series(rnd(), index=seconds)\n",
    "\n",
    "df = pd.DataFrame({\"a\": s1, \"b\": s2, \"c\": s3, \"d\": s4})\n",
    "print(s1)\n",
    "print(df)"
   ]
  },
  {
   "cell_type": "code",
   "execution_count": 1,
   "id": "fc7969f9-10c1-403f-b01a-beca60c8690e",
   "metadata": {},
   "outputs": [
    {
     "name": "stdout",
     "output_type": "stream",
     "text": [
      "                              underlying_symbol  underlying_price  \\\n",
      "expiration option_type strike                                       \n",
      "2025-02-05 call        400.0                SPY            604.22   \n",
      "           put         400.0                SPY            604.22   \n",
      "           call        405.0                SPY            604.22   \n",
      "           put         405.0                SPY            604.22   \n",
      "           call        410.0                SPY            604.22   \n",
      "...                                         ...               ...   \n",
      "2027-12-17 put         900.0                SPY            604.22   \n",
      "           call        905.0                SPY            604.22   \n",
      "           put         905.0                SPY            604.22   \n",
      "           call        910.0                SPY            604.22   \n",
      "           put         910.0                SPY            604.22   \n",
      "\n",
      "                                  contract_symbol   dte  open_interest  \\\n",
      "expiration option_type strike                                            \n",
      "2025-02-05 call        400.0   SPY250205C00400000    -1             16   \n",
      "           put         400.0   SPY250205P00400000    -1              9   \n",
      "           call        405.0   SPY250205C00405000    -1              0   \n",
      "           put         405.0   SPY250205P00405000    -1             96   \n",
      "           call        410.0   SPY250205C00410000    -1              0   \n",
      "...                                           ...   ...            ...   \n",
      "2027-12-17 put         900.0   SPY271217P00900000  1044              0   \n",
      "           call        905.0   SPY271217C00905000  1044             36   \n",
      "           put         905.0   SPY271217P00905000  1044              0   \n",
      "           call        910.0   SPY271217C00910000  1044            281   \n",
      "           put         910.0   SPY271217P00910000  1044              0   \n",
      "\n",
      "                               volume  theoretical_price  last_trade_price  \\\n",
      "expiration option_type strike                                                \n",
      "2025-02-05 call        400.0        8           204.4000            203.46   \n",
      "           put         400.0        0             0.0000              0.02   \n",
      "           call        405.0        0           199.4000              0.00   \n",
      "           put         405.0        0             0.0000              0.01   \n",
      "           call        410.0        0           194.4000              0.00   \n",
      "...                               ...                ...               ...   \n",
      "2027-12-17 put         900.0        0           295.6000            302.30   \n",
      "           call        905.0        0             5.1173              5.30   \n",
      "           put         905.0        0           300.6000              0.00   \n",
      "           call        910.0        3             4.8207              4.76   \n",
      "           put         910.0        3           305.6000            309.29   \n",
      "\n",
      "                                  last_trade_time       tick  ...     low  \\\n",
      "expiration option_type strike                                 ...           \n",
      "2025-02-05 call        400.0  2025-02-05 14:17:43         up  ...  200.59   \n",
      "           put         400.0  2025-01-27 14:50:53  no_change  ...    0.00   \n",
      "           call        405.0                  NaT  no_change  ...    0.00   \n",
      "           put         405.0  2025-01-31 10:28:29  no_change  ...    0.00   \n",
      "           call        410.0                  NaT  no_change  ...    0.00   \n",
      "...                                           ...        ...  ...     ...   \n",
      "2027-12-17 put         900.0  2025-01-27 11:22:54       down  ...    0.00   \n",
      "           call        905.0  2025-01-30 11:37:32         up  ...    0.00   \n",
      "           put         905.0                  NaT  no_change  ...    0.00   \n",
      "           call        910.0  2025-02-05 10:18:20       down  ...    4.76   \n",
      "           put         910.0  2025-02-05 10:05:55         up  ...  309.15   \n",
      "\n",
      "                               prev_close  change  change_percent  \\\n",
      "expiration option_type strike                                       \n",
      "2025-02-05 call        400.0   201.669998   1.790        0.008876   \n",
      "           put         400.0     0.005000   0.000        0.000000   \n",
      "           call        405.0   196.745003   0.000        0.000000   \n",
      "           put         405.0     0.005000   0.000        0.000000   \n",
      "           call        410.0   191.474998   0.000        0.000000   \n",
      "...                                   ...     ...             ...   \n",
      "2027-12-17 put         900.0   298.455002   0.000        0.000000   \n",
      "           call        905.0     5.125000   0.000        0.000000   \n",
      "           put         905.0   303.455002   0.000        0.000000   \n",
      "           call        910.0     4.850000  -0.090       -0.018557   \n",
      "           put         910.0   308.455002   0.835        0.002707   \n",
      "\n",
      "                               implied_volatility   delta   gamma   theta  \\\n",
      "expiration option_type strike                                               \n",
      "2025-02-05 call        400.0               0.0000  1.0000  0.0000  0.0000   \n",
      "           put         400.0               0.0000  0.0000  0.0000  0.0000   \n",
      "           call        405.0               0.0000  1.0000  0.0000  0.0000   \n",
      "           put         405.0               0.0000  0.0000  0.0000  0.0000   \n",
      "           call        410.0               0.0000  1.0000  0.0000  0.0000   \n",
      "...                                           ...     ...     ...     ...   \n",
      "2027-12-17 put         900.0               0.0000 -1.0000  0.0000 -0.0812   \n",
      "           call        905.0               0.1260  0.0973  0.0014 -0.0094   \n",
      "           put         905.0               0.0000 -1.0000  0.0000 -0.0812   \n",
      "           call        910.0               0.1251  0.0926  0.0013 -0.0091   \n",
      "           put         910.0               0.0000 -1.0000  0.0000 -0.0812   \n",
      "\n",
      "                                 vega     rho  \n",
      "expiration option_type strike                  \n",
      "2025-02-05 call        400.0   0.0000  0.0001  \n",
      "           put         400.0   0.0000  0.0000  \n",
      "           call        405.0   0.0000  0.0001  \n",
      "           put         405.0   0.0000  0.0000  \n",
      "           call        410.0   0.0000  0.0001  \n",
      "...                               ...     ...  \n",
      "2027-12-17 put         900.0   0.0000 -0.0001  \n",
      "           call        905.0   1.8248  1.5044  \n",
      "           put         905.0   0.0000 -0.0001  \n",
      "           call        910.0   1.7650  1.4327  \n",
      "           put         910.0   0.0000 -0.0001  \n",
      "\n",
      "[9328 rows x 26 columns]\n"
     ]
    }
   ],
   "source": [
    "import pandas as prod\n",
    "from openbb import obb\n",
    "obb.user.preferences.output_type = \"dataframe\"\n",
    "chains = obb.derivatives.options.chains(\n",
    "    \"SPY\", \n",
    "    provider=\"cboe\"\n",
    ")\n",
    "\n",
    "df = chains.set_index([\"expiration\", \"option_type\", \"strike\"])\n",
    "print(df)"
   ]
  }
 ],
 "metadata": {
  "kernelspec": {
   "display_name": "Python 3 (ipykernel)",
   "language": "python",
   "name": "python3"
  },
  "language_info": {
   "codemirror_mode": {
    "name": "ipython",
    "version": 3
   },
   "file_extension": ".py",
   "mimetype": "text/x-python",
   "name": "python",
   "nbconvert_exporter": "python",
   "pygments_lexer": "ipython3",
   "version": "3.12.7"
  }
 },
 "nbformat": 4,
 "nbformat_minor": 5
}
