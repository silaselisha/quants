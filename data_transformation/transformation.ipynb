{
 "cells": [
  {
   "cell_type": "code",
   "execution_count": 22,
   "metadata": {},
   "outputs": [],
   "source": [
    "from openbb import obb\n",
    "import pandas as pd\n",
    "\n",
    "obb.user.preferences.output_type = 'dataframe'\n",
    "asset = obb.equity.price.historical('AAPL', provider='yfinance')\n",
    "benchmark = obb.equity.price.historical('SPY', provider='yfinance')\n",
    "\n",
    "columns = ['open', 'high', 'low', 'close', 'volume', 'dividends']\n",
    "asset.columns = columns # rename columns\n",
    "benchmark.columns = columns \n",
    "\n",
    "# add columns with values from aggregate\n",
    "asset['price_diff'] = asset.close.diff()\n",
    "benchmark['price_diff'] = benchmark.close.diff()\n",
    "\n",
    "# add a column with a boolean value\n",
    "asset['gain'] = asset.price_diff > 0\n",
    "benchmark['gain'] = benchmark.price_diff > 0\n",
    "\n",
    "# add a colmn with a symbol string\n",
    "asset['symbol'] = 'AAPL'\n",
    "benchmark['symbol'] = 'SPY'\n",
    "\n",
    "# set a single value based on aggregation\n",
    "asset_2 = asset.copy()\n",
    "asset_2['volume'] = asset_2['volume'].astype(float)\n",
    "asset_2.at[asset_2.index[1], 'volume'] = asset_2.volume.mean()\n",
    "\n",
    "# concatenate two dataframes together\n",
    "assets = pd.concat([asset, asset_2]).drop_duplicates()"
   ]
  },
  {
   "cell_type": "code",
   "execution_count": 36,
   "metadata": {},
   "outputs": [
    {
     "name": "stdout",
     "output_type": "stream",
     "text": [
      "        last_trade_price_call  last_trade_price_put  straddle_price\n",
      "strike                                                             \n",
      "100.0                    0.00                  0.03            0.03\n",
      "110.0                    0.00                  0.04            0.04\n",
      "120.0                    0.00                  0.06            0.06\n",
      "130.0                    0.00                  0.00            0.00\n",
      "140.0                    0.00                  0.10            0.10\n",
      "145.0                    0.00                  0.10            0.10\n",
      "150.0                    0.00                  0.10            0.10\n",
      "155.0                   76.10                  0.12           76.22\n",
      "160.0                    0.00                  0.18            0.18\n",
      "165.0                    0.00                  0.16            0.16\n",
      "170.0                    0.00                  0.18            0.18\n",
      "175.0                    0.00                  0.19            0.19\n",
      "180.0                   53.91                  0.24           54.15\n",
      "185.0                    0.00                  0.29            0.29\n",
      "190.0                    0.00                  0.39            0.39\n",
      "195.0                   37.97                  0.41           38.38\n",
      "200.0                   31.94                  0.56           32.50\n",
      "205.0                   25.90                  0.79           26.69\n",
      "210.0                   25.00                  1.05           26.05\n",
      "215.0                   17.15                  1.55           18.70\n",
      "220.0                   12.91                  2.45           15.36\n",
      "225.0                   11.85                  3.55           15.40\n",
      "230.0                    8.62                  5.28           13.90\n",
      "235.0                    5.85                  8.20           14.05\n",
      "240.0                    3.75                 13.40           17.15\n",
      "245.0                    2.29                 17.10           19.39\n",
      "250.0                    1.32                 21.15           22.47\n",
      "255.0                    0.73                 27.89           28.62\n",
      "260.0                    0.43                 22.00           22.43\n",
      "265.0                    0.30                  0.00            0.30\n",
      "270.0                    0.18                 30.79           30.97\n",
      "275.0                    0.13                 36.80           36.93\n",
      "280.0                    0.09                  0.00            0.09\n",
      "285.0                    0.07                  0.00            0.07\n",
      "290.0                    0.11                  0.00            0.11\n",
      "295.0                    0.07                  0.00            0.07\n",
      "300.0                    0.04                  0.00            0.04\n",
      "305.0                    0.00                  0.00            0.00\n",
      "310.0                    0.06                  0.00            0.06\n",
      "315.0                    0.00                  0.00            0.00\n",
      "320.0                    0.00                  0.00            0.00\n",
      "325.0                    0.00                  0.00            0.00\n",
      "330.0                    0.04                  0.00            0.04\n"
     ]
    },
    {
     "name": "stderr",
     "output_type": "stream",
     "text": [
      "/tmp/ipykernel_12038/478846630.py:16: SettingWithCopyWarning: \n",
      "A value is trying to be set on a copy of a slice from a DataFrame.\n",
      "Try using .loc[row_indexer,col_indexer] = value instead\n",
      "\n",
      "See the caveats in the documentation: https://pandas.pydata.org/pandas-docs/stable/user_guide/indexing.html#returning-a-view-versus-a-copy\n",
      "  prices['straddle_price'] = prices.sum(axis=1)\n"
     ]
    }
   ],
   "source": [
    "from openbb import obb\n",
    "import pandas as prd \n",
    "\n",
    "obb.user.preferences.output_type = 'dataframe'\n",
    "chains = obb.derivatives.options.chains('AAPL', provider='cboe')\n",
    "\n",
    "expirations = chains.expiration.unique()\n",
    "calls = chains[(chains.option_type == 'call') & (chains.expiration == expirations[5])]\n",
    "put = chains[(chains.option_type == 'put') & (chains.expiration == expirations[5])]\n",
    "\n",
    "call_strike = calls.set_index('strike')\n",
    "put_strike = put.set_index('strike')\n",
    "\n",
    "joined = call_strike.join(put_strike, how='left', lsuffix='_call', rsuffix='_put')\n",
    "prices = joined[['last_trade_price_call', 'last_trade_price_put']]\n",
    "prices['straddle_price'] = prices.sum(axis=1)\n",
    "print(prices)"
   ]
  }
 ],
 "metadata": {
  "kernelspec": {
   "display_name": "Python 3 (ipykernel)",
   "language": "python",
   "name": "python3"
  },
  "language_info": {
   "codemirror_mode": {
    "name": "ipython",
    "version": 3
   },
   "file_extension": ".py",
   "mimetype": "text/x-python",
   "name": "python",
   "nbconvert_exporter": "python",
   "pygments_lexer": "ipython3",
   "version": "3.12.7"
  }
 },
 "nbformat": 4,
 "nbformat_minor": 2
}
