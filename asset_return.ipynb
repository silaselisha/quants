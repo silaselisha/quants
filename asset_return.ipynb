{
 "cells": [
  {
   "cell_type": "code",
   "execution_count": 3,
   "metadata": {},
   "outputs": [
    {
     "name": "stdout",
     "output_type": "stream",
     "text": [
      "                 close    simple  compound\n",
      "date                                      \n",
      "2024-02-06  189.300003       NaN       NaN\n",
      "2024-02-07  189.410004  0.000581  0.000581\n",
      "2024-02-08  188.320007 -0.005755 -0.005771\n",
      "2024-02-09  188.850006  0.002814  0.002810\n",
      "2024-02-12  187.149994 -0.009002 -0.009043\n",
      "...                ...       ...       ...\n",
      "2025-01-31  236.000000 -0.006692 -0.006715\n",
      "2025-02-03  228.009995 -0.033856 -0.034442\n",
      "2025-02-04  232.800003  0.021008  0.020790\n",
      "2025-02-05  232.470001 -0.001418 -0.001419\n",
      "2025-02-06  231.679993 -0.003398 -0.003404\n",
      "\n",
      "[252 rows x 3 columns]\n"
     ]
    }
   ],
   "source": [
    "import pandas as pd\n",
    "import numpy as np \n",
    "from openbb import obb\n",
    "\n",
    "obb.user.preferences.output_type = 'dataframe'\n",
    "data = obb.equity.price.historical('AAPL', provider='yfinance')\n",
    "\n",
    "df = data.loc[:, ['close']]\n",
    "df['simple'] = df['close'].pct_change()\n",
    "df['compound'] = np.log(df['close'] / df['close'].shift())\n",
    "print(df)\n"
   ]
  }
 ],
 "metadata": {
  "kernelspec": {
   "display_name": "Python 3 (ipykernel)",
   "language": "python",
   "name": "python3"
  },
  "language_info": {
   "codemirror_mode": {
    "name": "ipython",
    "version": 3
   },
   "file_extension": ".py",
   "mimetype": "text/x-python",
   "name": "python",
   "nbconvert_exporter": "python",
   "pygments_lexer": "ipython3",
   "version": "3.12.7"
  }
 },
 "nbformat": 4,
 "nbformat_minor": 2
}
